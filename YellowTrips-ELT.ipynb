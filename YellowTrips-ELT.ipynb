{
 "cells": [
  {
   "cell_type": "markdown",
   "id": "3d53a341",
   "metadata": {},
   "source": [
    "##  Проект № 5\n",
    "### Служба такси.\n",
    "___Полное техзадание проекта прилагается в doc/ТЗ.doc___"
   ]
  },
  {
   "cell_type": "markdown",
   "id": "b72df1af",
   "metadata": {},
   "source": [
    "#### Предварительный этап. \n",
    "__Подготовка и настройка среды__"
   ]
  },
  {
   "cell_type": "code",
   "execution_count": 1,
   "id": "488abf45",
   "metadata": {},
   "outputs": [],
   "source": [
    "import findspark\n",
    "findspark.init()\n",
    "\n",
    "import pyspark\n",
    "from pyspark.sql import SparkSession, Window\n",
    "from pyspark.sql.types import StructType, StructField, IntegerType, StringType\n",
    "from pyspark.sql.functions import lit, col, when, to_date, round, sum, max, min, count\n",
    "from pyspark.sql.functions import lit, row_number, monotonically_increasing_id\n",
    "\n",
    "import os"
   ]
  },
  {
   "cell_type": "code",
   "execution_count": 2,
   "id": "bd825e97",
   "metadata": {},
   "outputs": [
    {
     "name": "stdout",
     "output_type": "stream",
     "text": [
      "Requirement already satisfied: pyarrow in c:\\users\\admins\\appdata\\local\\anaconda3\\lib\\site-packages (11.0.0)\n",
      "Requirement already satisfied: numpy>=1.16.6 in c:\\users\\admins\\appdata\\local\\anaconda3\\lib\\site-packages (from pyarrow) (1.24.3)\n"
     ]
    }
   ],
   "source": [
    "! pip install pyarrow"
   ]
  },
  {
   "cell_type": "code",
   "execution_count": 3,
   "id": "05f45e67",
   "metadata": {},
   "outputs": [
    {
     "data": {
      "text/html": [
       "\n",
       "            <div>\n",
       "                <p><b>SparkSession - in-memory</b></p>\n",
       "                \n",
       "        <div>\n",
       "            <p><b>SparkContext</b></p>\n",
       "\n",
       "            <p><a href=\"http://host.docker.internal:4042\">Spark UI</a></p>\n",
       "\n",
       "            <dl>\n",
       "              <dt>Version</dt>\n",
       "                <dd><code>v3.4.1</code></dd>\n",
       "              <dt>Master</dt>\n",
       "                <dd><code>local[*]</code></dd>\n",
       "              <dt>AppName</dt>\n",
       "                <dd><code>pyspark-shell</code></dd>\n",
       "            </dl>\n",
       "        </div>\n",
       "        \n",
       "            </div>\n",
       "        "
      ],
      "text/plain": [
       "<pyspark.sql.session.SparkSession at 0x202e01f5890>"
      ]
     },
     "execution_count": 3,
     "metadata": {},
     "output_type": "execute_result"
    }
   ],
   "source": [
    "# Создаем сессию. \n",
    "spark = SparkSession.builder\\\n",
    "                    .getOrCreate()\n",
    "spark.conf.set(\"spark.sql.execution.arrow.pyspark.enabled\", \"true\")\n",
    "spark"
   ]
  },
  {
   "cell_type": "code",
   "execution_count": 6,
   "id": "e236aa93",
   "metadata": {},
   "outputs": [],
   "source": [
    "os.environ[\"PYARROW_IGNORE_TIMEZONE\"] = \"1\"\n",
    "PATH_PREFIX = 'Desktop/DE_project/'"
   ]
  },
  {
   "cell_type": "markdown",
   "id": "1dfcdc0d",
   "metadata": {},
   "source": [
    "#### 1. Загрузка сырых данных"
   ]
  },
  {
   "cell_type": "code",
   "execution_count": 7,
   "id": "7108877c",
   "metadata": {},
   "outputs": [],
   "source": [
    "# Загружаем \n",
    "df = spark.read.csv(PATH_PREFIX + 'src/yellow_tripdata_2020-01.csv', header=True, inferSchema=True)"
   ]
  },
  {
   "cell_type": "markdown",
   "id": "4c275f6a",
   "metadata": {},
   "source": [
    "#### 2. EDA предварительный анализ данных"
   ]
  },
  {
   "cell_type": "code",
   "execution_count": 8,
   "id": "cb08c701",
   "metadata": {},
   "outputs": [
    {
     "name": "stdout",
     "output_type": "stream",
     "text": [
      "root\n",
      " |-- VendorID: integer (nullable = true)\n",
      " |-- tpep_pickup_datetime: timestamp (nullable = true)\n",
      " |-- tpep_dropoff_datetime: timestamp (nullable = true)\n",
      " |-- passenger_count: integer (nullable = true)\n",
      " |-- trip_distance: double (nullable = true)\n",
      " |-- RatecodeID: integer (nullable = true)\n",
      " |-- store_and_fwd_flag: string (nullable = true)\n",
      " |-- PULocationID: integer (nullable = true)\n",
      " |-- DOLocationID: integer (nullable = true)\n",
      " |-- payment_type: integer (nullable = true)\n",
      " |-- fare_amount: double (nullable = true)\n",
      " |-- extra: double (nullable = true)\n",
      " |-- mta_tax: double (nullable = true)\n",
      " |-- tip_amount: double (nullable = true)\n",
      " |-- tolls_amount: double (nullable = true)\n",
      " |-- improvement_surcharge: double (nullable = true)\n",
      " |-- total_amount: double (nullable = true)\n",
      " |-- congestion_surcharge: double (nullable = true)\n",
      "\n"
     ]
    }
   ],
   "source": [
    "# Схема исходных данных\n",
    "df.printSchema()"
   ]
  },
  {
   "cell_type": "code",
   "execution_count": 9,
   "id": "74dc66f2",
   "metadata": {},
   "outputs": [
    {
     "name": "stdout",
     "output_type": "stream",
     "text": [
      "-RECORD 0------------------------------------\n",
      " VendorID              | 1                   \n",
      " tpep_pickup_datetime  | 2020-01-01 00:28:15 \n",
      " tpep_dropoff_datetime | 2020-01-01 00:33:03 \n",
      " passenger_count       | 1                   \n",
      " trip_distance         | 1.2                 \n",
      " RatecodeID            | 1                   \n",
      " store_and_fwd_flag    | N                   \n",
      " PULocationID          | 238                 \n",
      " DOLocationID          | 239                 \n",
      " payment_type          | 1                   \n",
      " fare_amount           | 6.0                 \n",
      " extra                 | 3.0                 \n",
      " mta_tax               | 0.5                 \n",
      " tip_amount            | 1.47                \n",
      " tolls_amount          | 0.0                 \n",
      " improvement_surcharge | 0.3                 \n",
      " total_amount          | 11.27               \n",
      " congestion_surcharge  | 2.5                 \n",
      "-RECORD 1------------------------------------\n",
      " VendorID              | 1                   \n",
      " tpep_pickup_datetime  | 2020-01-01 00:35:39 \n",
      " tpep_dropoff_datetime | 2020-01-01 00:43:04 \n",
      " passenger_count       | 1                   \n",
      " trip_distance         | 1.2                 \n",
      " RatecodeID            | 1                   \n",
      " store_and_fwd_flag    | N                   \n",
      " PULocationID          | 239                 \n",
      " DOLocationID          | 238                 \n",
      " payment_type          | 1                   \n",
      " fare_amount           | 7.0                 \n",
      " extra                 | 3.0                 \n",
      " mta_tax               | 0.5                 \n",
      " tip_amount            | 1.5                 \n",
      " tolls_amount          | 0.0                 \n",
      " improvement_surcharge | 0.3                 \n",
      " total_amount          | 12.3                \n",
      " congestion_surcharge  | 2.5                 \n",
      "-RECORD 2------------------------------------\n",
      " VendorID              | 1                   \n",
      " tpep_pickup_datetime  | 2020-01-01 00:47:41 \n",
      " tpep_dropoff_datetime | 2020-01-01 00:53:52 \n",
      " passenger_count       | 1                   \n",
      " trip_distance         | 0.6                 \n",
      " RatecodeID            | 1                   \n",
      " store_and_fwd_flag    | N                   \n",
      " PULocationID          | 238                 \n",
      " DOLocationID          | 238                 \n",
      " payment_type          | 1                   \n",
      " fare_amount           | 6.0                 \n",
      " extra                 | 3.0                 \n",
      " mta_tax               | 0.5                 \n",
      " tip_amount            | 1.0                 \n",
      " tolls_amount          | 0.0                 \n",
      " improvement_surcharge | 0.3                 \n",
      " total_amount          | 10.8                \n",
      " congestion_surcharge  | 2.5                 \n",
      "-RECORD 3------------------------------------\n",
      " VendorID              | 1                   \n",
      " tpep_pickup_datetime  | 2020-01-01 00:55:23 \n",
      " tpep_dropoff_datetime | 2020-01-01 01:00:14 \n",
      " passenger_count       | 1                   \n",
      " trip_distance         | 0.8                 \n",
      " RatecodeID            | 1                   \n",
      " store_and_fwd_flag    | N                   \n",
      " PULocationID          | 238                 \n",
      " DOLocationID          | 151                 \n",
      " payment_type          | 1                   \n",
      " fare_amount           | 5.5                 \n",
      " extra                 | 0.5                 \n",
      " mta_tax               | 0.5                 \n",
      " tip_amount            | 1.36                \n",
      " tolls_amount          | 0.0                 \n",
      " improvement_surcharge | 0.3                 \n",
      " total_amount          | 8.16                \n",
      " congestion_surcharge  | 0.0                 \n",
      "-RECORD 4------------------------------------\n",
      " VendorID              | 2                   \n",
      " tpep_pickup_datetime  | 2020-01-01 00:01:58 \n",
      " tpep_dropoff_datetime | 2020-01-01 00:04:16 \n",
      " passenger_count       | 1                   \n",
      " trip_distance         | 0.0                 \n",
      " RatecodeID            | 1                   \n",
      " store_and_fwd_flag    | N                   \n",
      " PULocationID          | 193                 \n",
      " DOLocationID          | 193                 \n",
      " payment_type          | 2                   \n",
      " fare_amount           | 3.5                 \n",
      " extra                 | 0.5                 \n",
      " mta_tax               | 0.5                 \n",
      " tip_amount            | 0.0                 \n",
      " tolls_amount          | 0.0                 \n",
      " improvement_surcharge | 0.3                 \n",
      " total_amount          | 4.8                 \n",
      " congestion_surcharge  | 0.0                 \n",
      "only showing top 5 rows\n",
      "\n"
     ]
    }
   ],
   "source": [
    "# Первые строки\n",
    "df.show(n=5, truncate=False, vertical=True)"
   ]
  },
  {
   "cell_type": "code",
   "execution_count": 10,
   "id": "a5b9b235",
   "metadata": {
    "scrolled": true
   },
   "outputs": [
    {
     "data": {
      "text/plain": [
       "VendorID                 65441\n",
       "tpep_pickup_datetime         0\n",
       "tpep_dropoff_datetime        0\n",
       "passenger_count          65441\n",
       "trip_distance                0\n",
       "RatecodeID               65441\n",
       "store_and_fwd_flag       65441\n",
       "PULocationID                 0\n",
       "DOLocationID                 0\n",
       "payment_type             65441\n",
       "fare_amount                  0\n",
       "extra                        0\n",
       "mta_tax                      0\n",
       "tip_amount                   0\n",
       "tolls_amount                 0\n",
       "improvement_surcharge        0\n",
       "total_amount                 0\n",
       "congestion_surcharge         0\n",
       "dtype: int64"
      ]
     },
     "execution_count": 10,
     "metadata": {},
     "output_type": "execute_result"
    }
   ],
   "source": [
    "# Количество пустых значений\n",
    "df.pandas_api().isna().sum()"
   ]
  },
  {
   "cell_type": "code",
   "execution_count": 11,
   "id": "99d91120",
   "metadata": {},
   "outputs": [
    {
     "data": {
      "text/plain": [
       "VendorID                 0\n",
       "tpep_pickup_datetime     0\n",
       "tpep_dropoff_datetime    0\n",
       "passenger_count          0\n",
       "trip_distance            0\n",
       "RatecodeID               0\n",
       "store_and_fwd_flag       0\n",
       "PULocationID             0\n",
       "DOLocationID             0\n",
       "payment_type             0\n",
       "fare_amount              0\n",
       "extra                    0\n",
       "mta_tax                  0\n",
       "tip_amount               0\n",
       "tolls_amount             0\n",
       "improvement_surcharge    0\n",
       "total_amount             0\n",
       "congestion_surcharge     0\n",
       "dtype: int64"
      ]
     },
     "execution_count": 11,
     "metadata": {},
     "output_type": "execute_result"
    }
   ],
   "source": [
    "# Удаляем аномальные строки\n",
    "df = df.dropna()\n",
    "# Дополнительная проверка\n",
    "df.pandas_api().isna().sum()"
   ]
  },
  {
   "cell_type": "code",
   "execution_count": 12,
   "id": "fccaddd8",
   "metadata": {
    "scrolled": false
   },
   "outputs": [
    {
     "name": "stdout",
     "output_type": "stream",
     "text": [
      "-RECORD 0------------------------------------\n",
      " VendorID              | 2                   \n",
      " tpep_pickup_datetime  | 2020-01-01 00:54:28 \n",
      " tpep_dropoff_datetime | 2020-01-01 00:58:41 \n",
      " passenger_count       | 1                   \n",
      " trip_distance         | 0.6                 \n",
      " RatecodeID            | 1                   \n",
      " store_and_fwd_flag    | N                   \n",
      " PULocationID          | 170                 \n",
      " DOLocationID          | 137                 \n",
      " payment_type          | 3                   \n",
      " fare_amount           | -4.5                \n",
      " extra                 | -0.5                \n",
      " mta_tax               | -0.5                \n",
      " tip_amount            | 0.0                 \n",
      " tolls_amount          | 0.0                 \n",
      " improvement_surcharge | -0.3                \n",
      " total_amount          | -8.3                \n",
      " congestion_surcharge  | -2.5                \n",
      "-RECORD 1------------------------------------\n",
      " VendorID              | 2                   \n",
      " tpep_pickup_datetime  | 2020-01-01 00:57:13 \n",
      " tpep_dropoff_datetime | 2020-01-01 00:58:05 \n",
      " passenger_count       | 1                   \n",
      " trip_distance         | 0.11                \n",
      " RatecodeID            | 1                   \n",
      " store_and_fwd_flag    | N                   \n",
      " PULocationID          | 260                 \n",
      " DOLocationID          | 260                 \n",
      " payment_type          | 3                   \n",
      " fare_amount           | -2.5                \n",
      " extra                 | -0.5                \n",
      " mta_tax               | -0.5                \n",
      " tip_amount            | 0.0                 \n",
      " tolls_amount          | 0.0                 \n",
      " improvement_surcharge | -0.3                \n",
      " total_amount          | -3.8                \n",
      " congestion_surcharge  | 0.0                 \n",
      "only showing top 2 rows\n",
      "\n"
     ]
    }
   ],
   "source": [
    "# Наличие аномальных сумм\n",
    "df.filter(df.total_amount < 0).show(2, truncate=False, vertical=True)"
   ]
  },
  {
   "cell_type": "code",
   "execution_count": 13,
   "id": "55e594b8",
   "metadata": {
    "scrolled": true
   },
   "outputs": [
    {
     "data": {
      "text/plain": [
       "19441"
      ]
     },
     "execution_count": 13,
     "metadata": {},
     "output_type": "execute_result"
    }
   ],
   "source": [
    "# Отрицательные суммы явно аномальны или являются раезультатом сторнирования ошибок\n",
    "# Данные записи следует удалить или скорректировать\n",
    "df.filter(df.total_amount < 0).count()"
   ]
  },
  {
   "cell_type": "code",
   "execution_count": 14,
   "id": "aa7880d0",
   "metadata": {
    "scrolled": true
   },
   "outputs": [],
   "source": [
    "# Количество таких строк составляет 0.3%\n",
    "# от общего коичества = 6405008, удаляем их\n",
    "df = df.filter(df.total_amount >= 0)"
   ]
  },
  {
   "cell_type": "markdown",
   "id": "d25fc65b",
   "metadata": {},
   "source": [
    "#### 3. Трансформируем данные"
   ]
  },
  {
   "cell_type": "code",
   "execution_count": 15,
   "id": "06a5a7ce",
   "metadata": {},
   "outputs": [],
   "source": [
    "# Копируем только необходимые столбцы в новый временный датафрейм \n",
    "temp_df = df.select('tpep_pickup_datetime',\n",
    "                   'passenger_count',\n",
    "                   'total_amount'\n",
    "                   )\n",
    "\n",
    "# Добавляем день поездки и временные столбцы для данных\n",
    "# количественным группам: флаг принадлежности к группе и стоимость поездки для группы\n",
    "temp_df = temp_df.withColumn('trip_date', to_date(temp_df.tpep_pickup_datetime,'yyyyMMdd'))\\\n",
    "                 .withColumn('haul_0p', when(temp_df.passenger_count == 0, 1).otherwise(0))\\\n",
    "                 .withColumn('total_amount_0p', when(temp_df.passenger_count == 0, \n",
    "                                                     temp_df.total_amount).otherwise(0))\\\n",
    "                 .withColumn('haul_1p',  when(temp_df.passenger_count == 1, 1).otherwise(0))\\\n",
    "                 .withColumn('total_amount_1p', when(temp_df.passenger_count == 1, \n",
    "                                                     temp_df.total_amount).otherwise(0))\\\n",
    "                 .withColumn('haul_2p',  when(temp_df.passenger_count == 2, 1).otherwise(0))\\\n",
    "                 .withColumn('total_amount_2p', when(temp_df.passenger_count == 2, \n",
    "                                                     temp_df.total_amount).otherwise(0))\\\n",
    "                 .withColumn('haul_3p',  when(temp_df.passenger_count == 3, 1).otherwise(0))\\\n",
    "                 .withColumn('total_amount_3p', when(temp_df.passenger_count == 3, \n",
    "                                                     temp_df.total_amount).otherwise(0))\\\n",
    "                 .withColumn('haul_4p_plus',  when(temp_df.passenger_count > 3, 1).otherwise(0))\\\n",
    "                 .withColumn('total_amount_4p_plus', when(temp_df.passenger_count > 3, \n",
    "                                                     temp_df.total_amount).otherwise(0))\n",
    "                 \n",
    "# Больше время посадки не понадобится\n",
    "temp_df = temp_df.drop(temp_df.tpep_pickup_datetime)  \n",
    "# Стоимости разнесены по группам\n",
    "temp_df = temp_df.drop(temp_df.total_amount) "
   ]
  },
  {
   "cell_type": "code",
   "execution_count": 16,
   "id": "9c7fee8c",
   "metadata": {
    "scrolled": false
   },
   "outputs": [],
   "source": [
    "# Агрегируем данные по дням и рассчитываем количество поездок по группам.\n",
    "# Определяем минимальную и максимальную стоимости поездок за день\n",
    "temp_df = temp_df.groupBy('trip_date') \\\n",
    "                          .agg(count('*').alias('trips_count'), \\\n",
    "                               sum('haul_0p').alias('haul_0p_sum'), \\\n",
    "                               max('total_amount_0p').alias('max_amount_zero'), \\\n",
    "                               min('total_amount_0p').alias('min_amount_zero'), \\\n",
    "                               sum('haul_1p').alias('haul_1p_sum'), \\\n",
    "                               max('total_amount_1p').alias('max_amount_1p'), \\\n",
    "                               min('total_amount_1p').alias('min_amount_1p'), \\\n",
    "                               sum('haul_2p').alias('haul_2p_sum'), \\\n",
    "                               max('total_amount_2p').alias('max_amount_2p'), \\\n",
    "                               min('total_amount_2p').alias('min_amount_2p'), \\\n",
    "                               sum('haul_3p').alias('haul_3p_sum'), \\\n",
    "                               max('total_amount_3p').alias('max_amount_3p'), \\\n",
    "                               min('total_amount_3p').alias('min_amount_3p'), \\\n",
    "                               sum('haul_4p_plus').alias('haul_4p_plus'), \\\n",
    "                               max('total_amount_4p_plus').alias('max_amount_4p_plus'), \\\n",
    "                               min('total_amount_4p_plus').alias('min_amount_4p_plus'))                                   "
   ]
  },
  {
   "cell_type": "code",
   "execution_count": 17,
   "id": "804c942c",
   "metadata": {},
   "outputs": [],
   "source": [
    "# Рассчитываем относительное количество поездок\n",
    "temp_df = temp_df.withColumn('percentage_zero', col('haul_0p_sum') / col('trips_count') * 100)\\\n",
    "                 .withColumn('percentage_1p', col('haul_1p_sum') / col('trips_count') * 100)\\\n",
    "                 .withColumn('percentage_2p', col('haul_2p_sum') / col('trips_count') * 100)\\\n",
    "                 .withColumn('percentage_3p', col('haul_3p_sum') / col('trips_count') * 100)\\\n",
    "                 .withColumn('percentage_4p_plus', col('haul_4p_plus') / col('trips_count') * 100)\n",
    "# Оставляем только колонки, затребованные ТЗ\n",
    "temp_df = temp_df.select('trip_date',\n",
    "                         'percentage_zero','max_amount_zero','min_amount_zero',                                                   \n",
    "                         'percentage_1p','max_amount_1p','min_amount_1p', \n",
    "                         'percentage_2p','max_amount_2p','min_amount_2p', \n",
    "                         'percentage_3p','max_amount_3p','min_amount_3p', \n",
    "                         'percentage_4p_plus','max_amount_4p_plus','min_amount_4p_plus'\n",
    "                         )\n",
    "# Сокращаем все поля с плавающей точкой до 2 знаков\n",
    "for c_name, c_type in temp_df.dtypes:\n",
    "    if c_type in ('double', 'float'):\n",
    "        temp_df = temp_df.withColumn(c_name, round(c_name, 2))"
   ]
  },
  {
   "cell_type": "code",
   "execution_count": 18,
   "id": "cfbf71cb",
   "metadata": {},
   "outputs": [],
   "source": [
    "# PySpark не сортирует после groupby. Упорядочиваем датафрейм\n",
    "temp_df =temp_df.sort('trip_date')"
   ]
  },
  {
   "cell_type": "code",
   "execution_count": 19,
   "id": "b76f6848",
   "metadata": {},
   "outputs": [
    {
     "name": "stdout",
     "output_type": "stream",
     "text": [
      "-RECORD 0------------------------\n",
      " trip_date          | 2003-01-01 \n",
      " percentage_zero    | 0.0        \n",
      " max_amount_zero    | 0.0        \n",
      " min_amount_zero    | 0.0        \n",
      " percentage_1p      | 100.0      \n",
      " max_amount_1p      | 0.0        \n",
      " min_amount_1p      | 0.0        \n",
      " percentage_2p      | 0.0        \n",
      " max_amount_2p      | 0.0        \n",
      " min_amount_2p      | 0.0        \n",
      " percentage_3p      | 0.0        \n",
      " max_amount_3p      | 0.0        \n",
      " min_amount_3p      | 0.0        \n",
      " percentage_4p_plus | 0.0        \n",
      " max_amount_4p_plus | 0.0        \n",
      " min_amount_4p_plus | 0.0        \n",
      "-RECORD 1------------------------\n",
      " trip_date          | 2008-12-31 \n",
      " percentage_zero    | 0.0        \n",
      " max_amount_zero    | 0.0        \n",
      " min_amount_zero    | 0.0        \n",
      " percentage_1p      | 80.0       \n",
      " max_amount_1p      | 73.7       \n",
      " min_amount_1p      | 0.0        \n",
      " percentage_2p      | 0.0        \n",
      " max_amount_2p      | 0.0        \n",
      " min_amount_2p      | 0.0        \n",
      " percentage_3p      | 10.0       \n",
      " max_amount_3p      | 7.25       \n",
      " min_amount_3p      | 0.0        \n",
      " percentage_4p_plus | 10.0       \n",
      " max_amount_4p_plus | 55.3       \n",
      " min_amount_4p_plus | 0.0        \n",
      "-RECORD 2------------------------\n",
      " trip_date          | 2009-01-01 \n",
      " percentage_zero    | 0.0        \n",
      " max_amount_zero    | 0.0        \n",
      " min_amount_zero    | 0.0        \n",
      " percentage_1p      | 78.95      \n",
      " max_amount_1p      | 74.8       \n",
      " min_amount_1p      | 0.0        \n",
      " percentage_2p      | 5.26       \n",
      " max_amount_2p      | 31.3       \n",
      " min_amount_2p      | 0.0        \n",
      " percentage_3p      | 5.26       \n",
      " max_amount_3p      | 13.8       \n",
      " min_amount_3p      | 0.0        \n",
      " percentage_4p_plus | 10.53      \n",
      " max_amount_4p_plus | 61.42      \n",
      " min_amount_4p_plus | 0.0        \n",
      "-RECORD 3------------------------\n",
      " trip_date          | 2019-12-18 \n",
      " percentage_zero    | 0.0        \n",
      " max_amount_zero    | 0.0        \n",
      " min_amount_zero    | 0.0        \n",
      " percentage_1p      | 50.0       \n",
      " max_amount_1p      | 2.81       \n",
      " min_amount_1p      | 0.0        \n",
      " percentage_2p      | 0.0        \n",
      " max_amount_2p      | 0.0        \n",
      " min_amount_2p      | 0.0        \n",
      " percentage_3p      | 0.0        \n",
      " max_amount_3p      | 0.0        \n",
      " min_amount_3p      | 0.0        \n",
      " percentage_4p_plus | 50.0       \n",
      " max_amount_4p_plus | 6.3        \n",
      " min_amount_4p_plus | 0.0        \n",
      "-RECORD 4------------------------\n",
      " trip_date          | 2019-12-31 \n",
      " percentage_zero    | 0.0        \n",
      " max_amount_zero    | 0.0        \n",
      " min_amount_zero    | 0.0        \n",
      " percentage_1p      | 58.27      \n",
      " max_amount_1p      | 71.62      \n",
      " min_amount_1p      | 0.0        \n",
      " percentage_2p      | 15.75      \n",
      " max_amount_2p      | 41.8       \n",
      " min_amount_2p      | 0.0        \n",
      " percentage_3p      | 4.72       \n",
      " max_amount_3p      | 34.42      \n",
      " min_amount_3p      | 0.0        \n",
      " percentage_4p_plus | 21.26      \n",
      " max_amount_4p_plus | 54.36      \n",
      " min_amount_4p_plus | 0.0        \n",
      "only showing top 5 rows\n",
      "\n"
     ]
    }
   ],
   "source": [
    "# Проверка итоговой витрины\n",
    "temp_df.show(n=5,truncate=False, vertical=True)"
   ]
  },
  {
   "cell_type": "code",
   "execution_count": 20,
   "id": "c385c7d9",
   "metadata": {
    "scrolled": true
   },
   "outputs": [
    {
     "name": "stdout",
     "output_type": "stream",
     "text": [
      "root\n",
      " |-- trip_date: date (nullable = true)\n",
      " |-- percentage_zero: double (nullable = true)\n",
      " |-- max_amount_zero: double (nullable = true)\n",
      " |-- min_amount_zero: double (nullable = true)\n",
      " |-- percentage_1p: double (nullable = true)\n",
      " |-- max_amount_1p: double (nullable = true)\n",
      " |-- min_amount_1p: double (nullable = true)\n",
      " |-- percentage_2p: double (nullable = true)\n",
      " |-- max_amount_2p: double (nullable = true)\n",
      " |-- min_amount_2p: double (nullable = true)\n",
      " |-- percentage_3p: double (nullable = true)\n",
      " |-- max_amount_3p: double (nullable = true)\n",
      " |-- min_amount_3p: double (nullable = true)\n",
      " |-- percentage_4p_plus: double (nullable = true)\n",
      " |-- max_amount_4p_plus: double (nullable = true)\n",
      " |-- min_amount_4p_plus: double (nullable = true)\n",
      "\n"
     ]
    }
   ],
   "source": [
    "# Итоговая витрина. Схема данный\n",
    "temp_df.printSchema()"
   ]
  },
  {
   "cell_type": "markdown",
   "id": "f52d1cb5",
   "metadata": {},
   "source": [
    "#### Сохраняем итоговую витрину"
   ]
  },
  {
   "cell_type": "code",
   "execution_count": 22,
   "id": "9bb0af74",
   "metadata": {},
   "outputs": [],
   "source": [
    "df_datamart = temp_df.toPandas()\n",
    "df_datamart.to_parquet(PATH_PREFIX+'output/yellow_trips_datamart.parquet')"
   ]
  },
  {
   "cell_type": "code",
   "execution_count": null,
   "id": "0a688ca3",
   "metadata": {},
   "outputs": [],
   "source": []
  }
 ],
 "metadata": {
  "kernelspec": {
   "display_name": "Python 3 (ipykernel)",
   "language": "python",
   "name": "python3"
  },
  "language_info": {
   "codemirror_mode": {
    "name": "ipython",
    "version": 3
   },
   "file_extension": ".py",
   "mimetype": "text/x-python",
   "name": "python",
   "nbconvert_exporter": "python",
   "pygments_lexer": "ipython3",
   "version": "3.11.5"
  }
 },
 "nbformat": 4,
 "nbformat_minor": 5
}
